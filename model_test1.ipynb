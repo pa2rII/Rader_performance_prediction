{
  "nbformat": 4,
  "nbformat_minor": 0,
  "metadata": {
    "colab": {
      "name": "Test2_model.ipynb",
      "provenance": [],
      "mount_file_id": "1ZTDu0BZUDokqCX6zOSJf9rci9LZWhC3C",
      "authorship_tag": "ABX9TyN7u+bPM9G0sW+FoQt/JRwT",
      "include_colab_link": true
    },
    "kernelspec": {
      "name": "python3",
      "display_name": "Python 3"
    },
    "language_info": {
      "name": "python"
    }
  },
  "cells": [
    {
      "cell_type": "markdown",
      "metadata": {
        "id": "view-in-github",
        "colab_type": "text"
      },
      "source": [
        "<a href=\"https://colab.research.google.com/github/Serena428/Rader_performance_prediction/blob/main/model_test1.ipynb\" target=\"_parent\"><img src=\"https://colab.research.google.com/assets/colab-badge.svg\" alt=\"Open In Colab\"/></a>"
      ]
    },
    {
      "cell_type": "code",
      "execution_count": 1,
      "metadata": {
        "id": "P6nG3Dy-dyYc"
      },
      "outputs": [],
      "source": [
        "import os\n",
        "import pandas as pd\n",
        "import numpy as np\n",
        "import warnings\n",
        "\n",
        "from sklearn.model_selection import train_test_split\n",
        "from sklearn.pipeline import make_pipeline\n",
        "from sklearn.preprocessing import RobustScaler\n",
        "from sklearn.linear_model import LinearRegression, Lasso, ElasticNet\n",
        "from sklearn.kernel_ridge import KernelRidge\n",
        "\n",
        "from sklearn.ensemble import BaggingRegressor\n",
        "\n",
        "from sklearn.ensemble import GradientBoostingRegressor\n",
        "import xgboost as xgb\n",
        "import lightgbm as lgb\n",
        "from sklearn.ensemble import StackingRegressor\n",
        "\n",
        "from sklearn.model_selection import cross_val_score\n",
        "from sklearn.model_selection import cross_val_predict\n",
        "from sklearn.metrics import mean_squared_error\n",
        "\n",
        "# Global settings\n",
        "\n",
        "warnings.filterwarnings(\"ignore\") # To ignore warnings\n",
        "n_jobs = -1 # This parameter conrols the parallel processing. -1 means using all processors.\n",
        "random_state = 42 # This parameter controls the randomness of the data. Using some int value to get same results everytime this code is run."
      ]
    },
    {
      "cell_type": "code",
      "source": [
        "from google.colab import drive\n",
        "drive.mount('/content/drive')"
      ],
      "metadata": {
        "colab": {
          "base_uri": "https://localhost:8080/"
        },
        "id": "qotmDhUZIeyf",
        "outputId": "f0a9883c-20f9-4fbb-e948-9da8de10ce04"
      },
      "execution_count": 2,
      "outputs": [
        {
          "output_type": "stream",
          "name": "stdout",
          "text": [
            "Drive already mounted at /content/drive; to attempt to forcibly remount, call drive.mount(\"/content/drive\", force_remount=True).\n"
          ]
        }
      ]
    },
    {
      "cell_type": "code",
      "source": [
        "df=pd.read_csv('/content/drive/MyDrive/수연/study/radar/train.csv')\n",
        "#train_df.head()\n",
        "len(df)"
      ],
      "metadata": {
        "colab": {
          "base_uri": "https://localhost:8080/"
        },
        "id": "Glyd-KQtd2GJ",
        "outputId": "c7792bab-d0de-41dd-9ab9-bf3888f51ef6"
      },
      "execution_count": 3,
      "outputs": [
        {
          "output_type": "execute_result",
          "data": {
            "text/plain": [
              "39607"
            ]
          },
          "metadata": {},
          "execution_count": 3
        }
      ]
    },
    {
      "cell_type": "code",
      "source": [
        "df.head()"
      ],
      "metadata": {
        "colab": {
          "base_uri": "https://localhost:8080/",
          "height": 236
        },
        "id": "Hbd_SZeQFciu",
        "outputId": "c8fff5e2-3ff2-4518-ad07-e65e887a0f02"
      },
      "execution_count": 4,
      "outputs": [
        {
          "output_type": "execute_result",
          "data": {
            "text/plain": [
              "            ID    X_01     X_02   X_03  X_04     X_05    X_06   X_07    X_08  \\\n",
              "0  TRAIN_00001  70.544  103.320  67.47     1  101.892  74.983  29.45   62.38   \n",
              "1  TRAIN_00002  69.524  103.321  65.17     1  101.944  72.943  28.73   61.23   \n",
              "2  TRAIN_00003  72.583  103.320  64.07     1  103.153  72.943  28.81  105.77   \n",
              "3  TRAIN_00004  71.563  103.320  67.57     1  101.971  77.022  28.92  115.21   \n",
              "4  TRAIN_00005  69.524  103.320  63.57     1  101.981  70.904  29.68  103.38   \n",
              "\n",
              "     X_09  ...    Y_05    Y_06   Y_07    Y_08    Y_09    Y_10    Y_11    Y_12  \\\n",
              "0  245.71  ...  29.632  16.083  4.276 -25.381 -25.529 -22.769  23.792 -25.470   \n",
              "1  233.61  ...  33.179  16.736  3.229 -26.619 -26.523 -22.574  24.691 -26.253   \n",
              "2  272.20  ...  31.801  17.080  2.839 -26.238 -26.216 -22.169  24.649 -26.285   \n",
              "3  255.36  ...  34.503  17.143  3.144 -25.426 -25.079 -21.765  24.913 -25.254   \n",
              "4  241.46  ...  32.602  17.569  3.138 -25.376 -25.242 -21.072  25.299 -25.072   \n",
              "\n",
              "     Y_13    Y_14  \n",
              "0 -25.409 -25.304  \n",
              "1 -26.497 -26.438  \n",
              "2 -26.215 -26.370  \n",
              "3 -25.021 -25.345  \n",
              "4 -25.195 -24.974  \n",
              "\n",
              "[5 rows x 71 columns]"
            ],
            "text/html": [
              "\n",
              "  <div id=\"df-43be9e55-7e37-4235-89b4-ca730c2ff7ba\">\n",
              "    <div class=\"colab-df-container\">\n",
              "      <div>\n",
              "<style scoped>\n",
              "    .dataframe tbody tr th:only-of-type {\n",
              "        vertical-align: middle;\n",
              "    }\n",
              "\n",
              "    .dataframe tbody tr th {\n",
              "        vertical-align: top;\n",
              "    }\n",
              "\n",
              "    .dataframe thead th {\n",
              "        text-align: right;\n",
              "    }\n",
              "</style>\n",
              "<table border=\"1\" class=\"dataframe\">\n",
              "  <thead>\n",
              "    <tr style=\"text-align: right;\">\n",
              "      <th></th>\n",
              "      <th>ID</th>\n",
              "      <th>X_01</th>\n",
              "      <th>X_02</th>\n",
              "      <th>X_03</th>\n",
              "      <th>X_04</th>\n",
              "      <th>X_05</th>\n",
              "      <th>X_06</th>\n",
              "      <th>X_07</th>\n",
              "      <th>X_08</th>\n",
              "      <th>X_09</th>\n",
              "      <th>...</th>\n",
              "      <th>Y_05</th>\n",
              "      <th>Y_06</th>\n",
              "      <th>Y_07</th>\n",
              "      <th>Y_08</th>\n",
              "      <th>Y_09</th>\n",
              "      <th>Y_10</th>\n",
              "      <th>Y_11</th>\n",
              "      <th>Y_12</th>\n",
              "      <th>Y_13</th>\n",
              "      <th>Y_14</th>\n",
              "    </tr>\n",
              "  </thead>\n",
              "  <tbody>\n",
              "    <tr>\n",
              "      <th>0</th>\n",
              "      <td>TRAIN_00001</td>\n",
              "      <td>70.544</td>\n",
              "      <td>103.320</td>\n",
              "      <td>67.47</td>\n",
              "      <td>1</td>\n",
              "      <td>101.892</td>\n",
              "      <td>74.983</td>\n",
              "      <td>29.45</td>\n",
              "      <td>62.38</td>\n",
              "      <td>245.71</td>\n",
              "      <td>...</td>\n",
              "      <td>29.632</td>\n",
              "      <td>16.083</td>\n",
              "      <td>4.276</td>\n",
              "      <td>-25.381</td>\n",
              "      <td>-25.529</td>\n",
              "      <td>-22.769</td>\n",
              "      <td>23.792</td>\n",
              "      <td>-25.470</td>\n",
              "      <td>-25.409</td>\n",
              "      <td>-25.304</td>\n",
              "    </tr>\n",
              "    <tr>\n",
              "      <th>1</th>\n",
              "      <td>TRAIN_00002</td>\n",
              "      <td>69.524</td>\n",
              "      <td>103.321</td>\n",
              "      <td>65.17</td>\n",
              "      <td>1</td>\n",
              "      <td>101.944</td>\n",
              "      <td>72.943</td>\n",
              "      <td>28.73</td>\n",
              "      <td>61.23</td>\n",
              "      <td>233.61</td>\n",
              "      <td>...</td>\n",
              "      <td>33.179</td>\n",
              "      <td>16.736</td>\n",
              "      <td>3.229</td>\n",
              "      <td>-26.619</td>\n",
              "      <td>-26.523</td>\n",
              "      <td>-22.574</td>\n",
              "      <td>24.691</td>\n",
              "      <td>-26.253</td>\n",
              "      <td>-26.497</td>\n",
              "      <td>-26.438</td>\n",
              "    </tr>\n",
              "    <tr>\n",
              "      <th>2</th>\n",
              "      <td>TRAIN_00003</td>\n",
              "      <td>72.583</td>\n",
              "      <td>103.320</td>\n",
              "      <td>64.07</td>\n",
              "      <td>1</td>\n",
              "      <td>103.153</td>\n",
              "      <td>72.943</td>\n",
              "      <td>28.81</td>\n",
              "      <td>105.77</td>\n",
              "      <td>272.20</td>\n",
              "      <td>...</td>\n",
              "      <td>31.801</td>\n",
              "      <td>17.080</td>\n",
              "      <td>2.839</td>\n",
              "      <td>-26.238</td>\n",
              "      <td>-26.216</td>\n",
              "      <td>-22.169</td>\n",
              "      <td>24.649</td>\n",
              "      <td>-26.285</td>\n",
              "      <td>-26.215</td>\n",
              "      <td>-26.370</td>\n",
              "    </tr>\n",
              "    <tr>\n",
              "      <th>3</th>\n",
              "      <td>TRAIN_00004</td>\n",
              "      <td>71.563</td>\n",
              "      <td>103.320</td>\n",
              "      <td>67.57</td>\n",
              "      <td>1</td>\n",
              "      <td>101.971</td>\n",
              "      <td>77.022</td>\n",
              "      <td>28.92</td>\n",
              "      <td>115.21</td>\n",
              "      <td>255.36</td>\n",
              "      <td>...</td>\n",
              "      <td>34.503</td>\n",
              "      <td>17.143</td>\n",
              "      <td>3.144</td>\n",
              "      <td>-25.426</td>\n",
              "      <td>-25.079</td>\n",
              "      <td>-21.765</td>\n",
              "      <td>24.913</td>\n",
              "      <td>-25.254</td>\n",
              "      <td>-25.021</td>\n",
              "      <td>-25.345</td>\n",
              "    </tr>\n",
              "    <tr>\n",
              "      <th>4</th>\n",
              "      <td>TRAIN_00005</td>\n",
              "      <td>69.524</td>\n",
              "      <td>103.320</td>\n",
              "      <td>63.57</td>\n",
              "      <td>1</td>\n",
              "      <td>101.981</td>\n",
              "      <td>70.904</td>\n",
              "      <td>29.68</td>\n",
              "      <td>103.38</td>\n",
              "      <td>241.46</td>\n",
              "      <td>...</td>\n",
              "      <td>32.602</td>\n",
              "      <td>17.569</td>\n",
              "      <td>3.138</td>\n",
              "      <td>-25.376</td>\n",
              "      <td>-25.242</td>\n",
              "      <td>-21.072</td>\n",
              "      <td>25.299</td>\n",
              "      <td>-25.072</td>\n",
              "      <td>-25.195</td>\n",
              "      <td>-24.974</td>\n",
              "    </tr>\n",
              "  </tbody>\n",
              "</table>\n",
              "<p>5 rows × 71 columns</p>\n",
              "</div>\n",
              "      <button class=\"colab-df-convert\" onclick=\"convertToInteractive('df-43be9e55-7e37-4235-89b4-ca730c2ff7ba')\"\n",
              "              title=\"Convert this dataframe to an interactive table.\"\n",
              "              style=\"display:none;\">\n",
              "        \n",
              "  <svg xmlns=\"http://www.w3.org/2000/svg\" height=\"24px\"viewBox=\"0 0 24 24\"\n",
              "       width=\"24px\">\n",
              "    <path d=\"M0 0h24v24H0V0z\" fill=\"none\"/>\n",
              "    <path d=\"M18.56 5.44l.94 2.06.94-2.06 2.06-.94-2.06-.94-.94-2.06-.94 2.06-2.06.94zm-11 1L8.5 8.5l.94-2.06 2.06-.94-2.06-.94L8.5 2.5l-.94 2.06-2.06.94zm10 10l.94 2.06.94-2.06 2.06-.94-2.06-.94-.94-2.06-.94 2.06-2.06.94z\"/><path d=\"M17.41 7.96l-1.37-1.37c-.4-.4-.92-.59-1.43-.59-.52 0-1.04.2-1.43.59L10.3 9.45l-7.72 7.72c-.78.78-.78 2.05 0 2.83L4 21.41c.39.39.9.59 1.41.59.51 0 1.02-.2 1.41-.59l7.78-7.78 2.81-2.81c.8-.78.8-2.07 0-2.86zM5.41 20L4 18.59l7.72-7.72 1.47 1.35L5.41 20z\"/>\n",
              "  </svg>\n",
              "      </button>\n",
              "      \n",
              "  <style>\n",
              "    .colab-df-container {\n",
              "      display:flex;\n",
              "      flex-wrap:wrap;\n",
              "      gap: 12px;\n",
              "    }\n",
              "\n",
              "    .colab-df-convert {\n",
              "      background-color: #E8F0FE;\n",
              "      border: none;\n",
              "      border-radius: 50%;\n",
              "      cursor: pointer;\n",
              "      display: none;\n",
              "      fill: #1967D2;\n",
              "      height: 32px;\n",
              "      padding: 0 0 0 0;\n",
              "      width: 32px;\n",
              "    }\n",
              "\n",
              "    .colab-df-convert:hover {\n",
              "      background-color: #E2EBFA;\n",
              "      box-shadow: 0px 1px 2px rgba(60, 64, 67, 0.3), 0px 1px 3px 1px rgba(60, 64, 67, 0.15);\n",
              "      fill: #174EA6;\n",
              "    }\n",
              "\n",
              "    [theme=dark] .colab-df-convert {\n",
              "      background-color: #3B4455;\n",
              "      fill: #D2E3FC;\n",
              "    }\n",
              "\n",
              "    [theme=dark] .colab-df-convert:hover {\n",
              "      background-color: #434B5C;\n",
              "      box-shadow: 0px 1px 3px 1px rgba(0, 0, 0, 0.15);\n",
              "      filter: drop-shadow(0px 1px 2px rgba(0, 0, 0, 0.3));\n",
              "      fill: #FFFFFF;\n",
              "    }\n",
              "  </style>\n",
              "\n",
              "      <script>\n",
              "        const buttonEl =\n",
              "          document.querySelector('#df-43be9e55-7e37-4235-89b4-ca730c2ff7ba button.colab-df-convert');\n",
              "        buttonEl.style.display =\n",
              "          google.colab.kernel.accessAllowed ? 'block' : 'none';\n",
              "\n",
              "        async function convertToInteractive(key) {\n",
              "          const element = document.querySelector('#df-43be9e55-7e37-4235-89b4-ca730c2ff7ba');\n",
              "          const dataTable =\n",
              "            await google.colab.kernel.invokeFunction('convertToInteractive',\n",
              "                                                     [key], {});\n",
              "          if (!dataTable) return;\n",
              "\n",
              "          const docLinkHtml = 'Like what you see? Visit the ' +\n",
              "            '<a target=\"_blank\" href=https://colab.research.google.com/notebooks/data_table.ipynb>data table notebook</a>'\n",
              "            + ' to learn more about interactive tables.';\n",
              "          element.innerHTML = '';\n",
              "          dataTable['output_type'] = 'display_data';\n",
              "          await google.colab.output.renderOutput(dataTable, element);\n",
              "          const docLink = document.createElement('div');\n",
              "          docLink.innerHTML = docLinkHtml;\n",
              "          element.appendChild(docLink);\n",
              "        }\n",
              "      </script>\n",
              "    </div>\n",
              "  </div>\n",
              "  "
            ]
          },
          "metadata": {},
          "execution_count": 4
        }
      ]
    },
    {
      "cell_type": "code",
      "source": [
        "df.columns"
      ],
      "metadata": {
        "colab": {
          "base_uri": "https://localhost:8080/"
        },
        "id": "PXSVSrkVFe71",
        "outputId": "4265058d-3255-483b-a084-528c88dc9a0b"
      },
      "execution_count": 5,
      "outputs": [
        {
          "output_type": "execute_result",
          "data": {
            "text/plain": [
              "Index(['ID', 'X_01', 'X_02', 'X_03', 'X_04', 'X_05', 'X_06', 'X_07', 'X_08',\n",
              "       'X_09', 'X_10', 'X_11', 'X_12', 'X_13', 'X_14', 'X_15', 'X_16', 'X_17',\n",
              "       'X_18', 'X_19', 'X_20', 'X_21', 'X_22', 'X_23', 'X_24', 'X_25', 'X_26',\n",
              "       'X_27', 'X_28', 'X_29', 'X_30', 'X_31', 'X_32', 'X_33', 'X_34', 'X_35',\n",
              "       'X_36', 'X_37', 'X_38', 'X_39', 'X_40', 'X_41', 'X_42', 'X_43', 'X_44',\n",
              "       'X_45', 'X_46', 'X_47', 'X_48', 'X_49', 'X_50', 'X_51', 'X_52', 'X_53',\n",
              "       'X_54', 'X_55', 'X_56', 'Y_01', 'Y_02', 'Y_03', 'Y_04', 'Y_05', 'Y_06',\n",
              "       'Y_07', 'Y_08', 'Y_09', 'Y_10', 'Y_11', 'Y_12', 'Y_13', 'Y_14'],\n",
              "      dtype='object')"
            ]
          },
          "metadata": {},
          "execution_count": 5
        }
      ]
    },
    {
      "cell_type": "code",
      "source": [
        "X = df[['X_01', 'X_02', 'X_03', 'X_04', 'X_05', 'X_06', 'X_07', 'X_08',\n",
        "       'X_09', 'X_10', 'X_11', 'X_12', 'X_13', 'X_14', 'X_15', 'X_16', 'X_17',\n",
        "       'X_18', 'X_19', 'X_20', 'X_21', 'X_22', 'X_23', 'X_24', 'X_25', 'X_26',\n",
        "       'X_27', 'X_28', 'X_29', 'X_30', 'X_31', 'X_32', 'X_33', 'X_34', 'X_35',\n",
        "       'X_36', 'X_37', 'X_38', 'X_39', 'X_40', 'X_41', 'X_42', 'X_43', 'X_44',\n",
        "       'X_45', 'X_46', 'X_47', 'X_48', 'X_49', 'X_50', 'X_51', 'X_52', 'X_53',\n",
        "       'X_54', 'X_55', 'X_56']]"
      ],
      "metadata": {
        "id": "UnDFkvLqFeK3"
      },
      "execution_count": 6,
      "outputs": []
    },
    {
      "cell_type": "code",
      "source": [
        "y = df[['Y_01', 'Y_02', 'Y_03', 'Y_04', 'Y_05', 'Y_06',\n",
        "       'Y_07', 'Y_08', 'Y_09', 'Y_10', 'Y_11', 'Y_12', 'Y_13', 'Y_14']]"
      ],
      "metadata": {
        "id": "LCOf5BOXFtU9"
      },
      "execution_count": 7,
      "outputs": []
    },
    {
      "cell_type": "markdown",
      "source": [
        "#Train and Test Data"
      ],
      "metadata": {
        "id": "knv5UIxJA3Jo"
      }
    },
    {
      "cell_type": "code",
      "source": [
        "X_train, X_test, y_train, y_test = train_test_split(X, y, \n",
        "                                                    test_size = 0.33, random_state=random_state)\n",
        "\n",
        "print(f'Training set--> X_train shape= {X_train.shape}, y_train shape= {y_train.shape}')\n",
        "print(f'Holdout set--> X_test shape= {X_test.shape}, y_test shape= {y_test.shape}')"
      ],
      "metadata": {
        "colab": {
          "base_uri": "https://localhost:8080/"
        },
        "id": "VO8rSrJ26gKt",
        "outputId": "5702376f-00d2-438e-8306-5b01f2257fb8"
      },
      "execution_count": 8,
      "outputs": [
        {
          "output_type": "stream",
          "name": "stdout",
          "text": [
            "Training set--> X_train shape= (26536, 56), y_train shape= (26536, 14)\n",
            "Holdout set--> X_test shape= (13071, 56), y_test shape= (13071, 14)\n"
          ]
        }
      ]
    },
    {
      "cell_type": "markdown",
      "source": [
        "# Regression"
      ],
      "metadata": {
        "id": "zdH070r6BK4F"
      }
    },
    {
      "cell_type": "code",
      "source": [
        "# def lg_nrmse(gt, preds):\n",
        "#     # 각 Y Feature별 NRMSE 총합\n",
        "#     # Y_01 ~ Y_08 까지 20% 가중치 부여\n",
        "#     all_nrmse = []\n",
        "#     for idx in range(1,15): # ignore 'ID'\n",
        "#         rmse = metrics.mean_squared_error(gt[:,idx], preds[:,idx], squared=False)\n",
        "#         nrmse = rmse/np.mean(np.abs(gt[:,idx]))\n",
        "#         all_nrmse.append(nrmse)\n",
        "#     score = 1.2 * np.sum(all_nrmse[:8]) + 1.0 * np.sum(all_nrmse[8:14])\n",
        "#     return score"
      ],
      "metadata": {
        "id": "ilMvl5H3BNWS"
      },
      "execution_count": 9,
      "outputs": []
    },
    {
      "cell_type": "code",
      "source": [
        "models_scores = [] # To store model scores\n",
        "\n",
        "def rmse(model):\n",
        "    model.fit(X_train, y_train)\n",
        "    y_pred = model.predict(X_test)\n",
        "    \n",
        "    return mean_squared_error(y_test, y_pred, squared= False) # squared= False > returns Root Mean Square Error "
      ],
      "metadata": {
        "id": "XCi6DgyAGNkN"
      },
      "execution_count": 10,
      "outputs": []
    },
    {
      "cell_type": "markdown",
      "source": [
        "##Linear Regression"
      ],
      "metadata": {
        "id": "co3aBGwQBaQa"
      }
    },
    {
      "cell_type": "markdown",
      "source": [
        "해당 데이터가 선형성을 띄지 않기 때문에 좋은 결과가 나오지는 못할것 같음."
      ],
      "metadata": {
        "id": "53GdQmMeBeI1"
      }
    },
    {
      "cell_type": "code",
      "source": [
        "linear_regression = make_pipeline(LinearRegression())\n",
        "score = rmse(linear_regression)\n",
        "\n",
        "models_scores.append(['Linear Regression', score])\n",
        "print(f'LinearRegression Score={score}')"
      ],
      "metadata": {
        "colab": {
          "base_uri": "https://localhost:8080/"
        },
        "id": "h3lzC34dBZLm",
        "outputId": "63448221-2a5d-49ee-e196-03fc84db1853"
      },
      "execution_count": 11,
      "outputs": [
        {
          "output_type": "stream",
          "name": "stdout",
          "text": [
            "LinearRegression Score=0.9707811126657843\n"
          ]
        }
      ]
    },
    {
      "cell_type": "markdown",
      "source": [
        "#Lasso Regression"
      ],
      "metadata": {
        "id": "cECOClt_G8SL"
      }
    },
    {
      "cell_type": "code",
      "source": [
        "lasso = make_pipeline(RobustScaler(), Lasso(alpha=0.005,\n",
        "                                            random_state=random_state))\n",
        "\n",
        "score = rmse(lasso)\n",
        "models_scores.append(['Lasso', score])\n",
        "print(f'Lasso Score = {score}')"
      ],
      "metadata": {
        "colab": {
          "base_uri": "https://localhost:8080/"
        },
        "id": "WTgWFdJSGEZA",
        "outputId": "9578818e-d597-4780-e695-bf4f1a7e093f"
      },
      "execution_count": 12,
      "outputs": [
        {
          "output_type": "stream",
          "name": "stdout",
          "text": [
            "Lasso Score = 0.971810201221009\n"
          ]
        }
      ]
    },
    {
      "cell_type": "markdown",
      "source": [
        "#ElasticNet Regression"
      ],
      "metadata": {
        "id": "81Q0Xb8DHY66"
      }
    },
    {
      "cell_type": "code",
      "source": [
        "elastic_net = make_pipeline(RobustScaler(), ElasticNet(alpha=.0005,\n",
        "                                                        l1_ratio= .9,\n",
        "                                                        random_state=random_state))\n",
        "\n",
        "score = rmse(elastic_net)\n",
        "models_scores.append(['ElasticNet', score])\n",
        "print(f'ElasticNet Score={score}')"
      ],
      "metadata": {
        "colab": {
          "base_uri": "https://localhost:8080/"
        },
        "id": "3nLtfOefHWjN",
        "outputId": "7d71d355-2d5b-480f-d9a3-5c7aa234ec0c"
      },
      "execution_count": 13,
      "outputs": [
        {
          "output_type": "stream",
          "name": "stdout",
          "text": [
            "ElasticNet Score=0.9706706830198836\n"
          ]
        }
      ]
    },
    {
      "cell_type": "markdown",
      "source": [
        "#KernelRidge Regression"
      ],
      "metadata": {
        "id": "72NMcHKFITIT"
      }
    },
    {
      "cell_type": "code",
      "source": [
        "# kernel_ridge= KernelRidge(alpha=0.6, kernel='polynomial', degree=2, coef0=2.5)\n",
        "# score = rmse(kernel_ridge)\n",
        "# models_scores.append(['KernelRidge', score])\n",
        "# print(f'KernelRidge Score= {score}')"
      ],
      "metadata": {
        "id": "rkKeLv7lIDAv"
      },
      "execution_count": 14,
      "outputs": []
    },
    {
      "cell_type": "code",
      "source": [
        "# Ranking the scores of each model\n",
        "pd.DataFrame(models_scores).sort_values(by=[1], ascending=False)"
      ],
      "metadata": {
        "colab": {
          "base_uri": "https://localhost:8080/",
          "height": 143
        },
        "id": "tKo_6tJwIYqs",
        "outputId": "3d55a873-a765-4a36-d531-b7590b65d256"
      },
      "execution_count": 15,
      "outputs": [
        {
          "output_type": "execute_result",
          "data": {
            "text/plain": [
              "                   0         1\n",
              "1              Lasso  0.971810\n",
              "0  Linear Regression  0.970781\n",
              "2         ElasticNet  0.970671"
            ],
            "text/html": [
              "\n",
              "  <div id=\"df-42d98729-8dd7-410a-8455-ba8fce86042c\">\n",
              "    <div class=\"colab-df-container\">\n",
              "      <div>\n",
              "<style scoped>\n",
              "    .dataframe tbody tr th:only-of-type {\n",
              "        vertical-align: middle;\n",
              "    }\n",
              "\n",
              "    .dataframe tbody tr th {\n",
              "        vertical-align: top;\n",
              "    }\n",
              "\n",
              "    .dataframe thead th {\n",
              "        text-align: right;\n",
              "    }\n",
              "</style>\n",
              "<table border=\"1\" class=\"dataframe\">\n",
              "  <thead>\n",
              "    <tr style=\"text-align: right;\">\n",
              "      <th></th>\n",
              "      <th>0</th>\n",
              "      <th>1</th>\n",
              "    </tr>\n",
              "  </thead>\n",
              "  <tbody>\n",
              "    <tr>\n",
              "      <th>1</th>\n",
              "      <td>Lasso</td>\n",
              "      <td>0.971810</td>\n",
              "    </tr>\n",
              "    <tr>\n",
              "      <th>0</th>\n",
              "      <td>Linear Regression</td>\n",
              "      <td>0.970781</td>\n",
              "    </tr>\n",
              "    <tr>\n",
              "      <th>2</th>\n",
              "      <td>ElasticNet</td>\n",
              "      <td>0.970671</td>\n",
              "    </tr>\n",
              "  </tbody>\n",
              "</table>\n",
              "</div>\n",
              "      <button class=\"colab-df-convert\" onclick=\"convertToInteractive('df-42d98729-8dd7-410a-8455-ba8fce86042c')\"\n",
              "              title=\"Convert this dataframe to an interactive table.\"\n",
              "              style=\"display:none;\">\n",
              "        \n",
              "  <svg xmlns=\"http://www.w3.org/2000/svg\" height=\"24px\"viewBox=\"0 0 24 24\"\n",
              "       width=\"24px\">\n",
              "    <path d=\"M0 0h24v24H0V0z\" fill=\"none\"/>\n",
              "    <path d=\"M18.56 5.44l.94 2.06.94-2.06 2.06-.94-2.06-.94-.94-2.06-.94 2.06-2.06.94zm-11 1L8.5 8.5l.94-2.06 2.06-.94-2.06-.94L8.5 2.5l-.94 2.06-2.06.94zm10 10l.94 2.06.94-2.06 2.06-.94-2.06-.94-.94-2.06-.94 2.06-2.06.94z\"/><path d=\"M17.41 7.96l-1.37-1.37c-.4-.4-.92-.59-1.43-.59-.52 0-1.04.2-1.43.59L10.3 9.45l-7.72 7.72c-.78.78-.78 2.05 0 2.83L4 21.41c.39.39.9.59 1.41.59.51 0 1.02-.2 1.41-.59l7.78-7.78 2.81-2.81c.8-.78.8-2.07 0-2.86zM5.41 20L4 18.59l7.72-7.72 1.47 1.35L5.41 20z\"/>\n",
              "  </svg>\n",
              "      </button>\n",
              "      \n",
              "  <style>\n",
              "    .colab-df-container {\n",
              "      display:flex;\n",
              "      flex-wrap:wrap;\n",
              "      gap: 12px;\n",
              "    }\n",
              "\n",
              "    .colab-df-convert {\n",
              "      background-color: #E8F0FE;\n",
              "      border: none;\n",
              "      border-radius: 50%;\n",
              "      cursor: pointer;\n",
              "      display: none;\n",
              "      fill: #1967D2;\n",
              "      height: 32px;\n",
              "      padding: 0 0 0 0;\n",
              "      width: 32px;\n",
              "    }\n",
              "\n",
              "    .colab-df-convert:hover {\n",
              "      background-color: #E2EBFA;\n",
              "      box-shadow: 0px 1px 2px rgba(60, 64, 67, 0.3), 0px 1px 3px 1px rgba(60, 64, 67, 0.15);\n",
              "      fill: #174EA6;\n",
              "    }\n",
              "\n",
              "    [theme=dark] .colab-df-convert {\n",
              "      background-color: #3B4455;\n",
              "      fill: #D2E3FC;\n",
              "    }\n",
              "\n",
              "    [theme=dark] .colab-df-convert:hover {\n",
              "      background-color: #434B5C;\n",
              "      box-shadow: 0px 1px 3px 1px rgba(0, 0, 0, 0.15);\n",
              "      filter: drop-shadow(0px 1px 2px rgba(0, 0, 0, 0.3));\n",
              "      fill: #FFFFFF;\n",
              "    }\n",
              "  </style>\n",
              "\n",
              "      <script>\n",
              "        const buttonEl =\n",
              "          document.querySelector('#df-42d98729-8dd7-410a-8455-ba8fce86042c button.colab-df-convert');\n",
              "        buttonEl.style.display =\n",
              "          google.colab.kernel.accessAllowed ? 'block' : 'none';\n",
              "\n",
              "        async function convertToInteractive(key) {\n",
              "          const element = document.querySelector('#df-42d98729-8dd7-410a-8455-ba8fce86042c');\n",
              "          const dataTable =\n",
              "            await google.colab.kernel.invokeFunction('convertToInteractive',\n",
              "                                                     [key], {});\n",
              "          if (!dataTable) return;\n",
              "\n",
              "          const docLinkHtml = 'Like what you see? Visit the ' +\n",
              "            '<a target=\"_blank\" href=https://colab.research.google.com/notebooks/data_table.ipynb>data table notebook</a>'\n",
              "            + ' to learn more about interactive tables.';\n",
              "          element.innerHTML = '';\n",
              "          dataTable['output_type'] = 'display_data';\n",
              "          await google.colab.output.renderOutput(dataTable, element);\n",
              "          const docLink = document.createElement('div');\n",
              "          docLink.innerHTML = docLinkHtml;\n",
              "          element.appendChild(docLink);\n",
              "        }\n",
              "      </script>\n",
              "    </div>\n",
              "  </div>\n",
              "  "
            ]
          },
          "metadata": {},
          "execution_count": 15
        }
      ]
    },
    {
      "cell_type": "markdown",
      "source": [
        "#Ensemble Modeling"
      ],
      "metadata": {
        "id": "BIshQRI_I4hr"
      }
    },
    {
      "cell_type": "code",
      "source": [
        "def begging_predictions(estimator):\n",
        "  regr = BaggingRegressor(base_estimator=estimator,\n",
        "                          n_estimators=10,\n",
        "                          max_samples =1.0,\n",
        "                          bootstrap=True,\n",
        "                          n_jobs=n_jobs,\n",
        "                          random_state=random_state).fit(X_train,y_train)\n",
        "  br_y_pred=regr.predict(X_test)\n",
        "\n",
        "  rmse_val = mean_squared_error(y_test, br_y_pred, squared=False) #squared=False > returns Root Mean square Error\n",
        "\n",
        "  print(f'RMSE for base estimator {regr.base_estimator_}={rmse_val}\\n')\n",
        "  return br_y_pred"
      ],
      "metadata": {
        "id": "ORTPKwfKIbKG"
      },
      "execution_count": 16,
      "outputs": []
    },
    {
      "cell_type": "code",
      "source": [
        "predictions = np.column_stack((begging_predictions(linear_regression),\n",
        "                               begging_predictions(lasso),\n",
        "                               begging_predictions(elastic_net)\n",
        "                               #begging_predictions(kernel_ridge)\n",
        "                               ))\n",
        "print(f'bagged predictions shape:{predictions.shape}')"
      ],
      "metadata": {
        "colab": {
          "base_uri": "https://localhost:8080/"
        },
        "id": "aUow62nJJKtV",
        "outputId": "bbad71db-5e07-4ea3-ccf4-7bdec3180c66"
      },
      "execution_count": 19,
      "outputs": [
        {
          "output_type": "stream",
          "name": "stdout",
          "text": [
            "RMSE for base estimator Pipeline(steps=[('linearregression', LinearRegression())])=0.9708333495215723\n",
            "\n",
            "RMSE for base estimator Pipeline(steps=[('robustscaler', RobustScaler()),\n",
            "                ('lasso', Lasso(alpha=0.005, random_state=42))])=0.971632328094954\n",
            "\n",
            "RMSE for base estimator Pipeline(steps=[('robustscaler', RobustScaler()),\n",
            "                ('elasticnet',\n",
            "                 ElasticNet(alpha=0.0005, l1_ratio=0.9, random_state=42))])=0.9707081052213155\n",
            "\n",
            "bagged predictions shape:(13071, 42)\n"
          ]
        }
      ]
    },
    {
      "cell_type": "code",
      "source": [
        ""
      ],
      "metadata": {
        "id": "3ZpEa0h_MPCK"
      },
      "execution_count": null,
      "outputs": []
    }
  ]
}